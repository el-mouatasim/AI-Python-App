{
 "cells": [
  {
   "cell_type": "markdown",
   "metadata": {},
   "source": [
    "# Introduction à Python  -- TP4:  Méthodes d'une liste\n",
    "\n",
    "Prof. Abdelkrim EL MOUATASIM  \n",
    "\n",
    "a.elmouatasim@uiz.ac.ma\n"
   ]
  },
  {
   "cell_type": "markdown",
   "metadata": {},
   "source": [
    "##### Méthodes d'une liste\n",
    "\n",
    "Une liste est un *objet* de type `list` qui possède des *méthodes*. \n",
    "Pour connaître ces méthodes, il suffit d'écrire le nom d'une variable de type `list` suivit d'un point et d'appuyer sur la touche *TAB*. \n",
    "\n",
    "Essayez par vous-même:"
   ]
  },
  {
   "cell_type": "code",
   "execution_count": null,
   "metadata": {},
   "outputs": [],
   "source": [
    "ma_liste.index(4)"
   ]
  },
  {
   "cell_type": "markdown",
   "metadata": {},
   "source": [
    "Cela fonctionne aussi en écrivant directement `list.` et en appuyant sur *TAB*:"
   ]
  },
  {
   "cell_type": "code",
   "execution_count": null,
   "metadata": {},
   "outputs": [],
   "source": [
    "list."
   ]
  },
  {
   "cell_type": "markdown",
   "metadata": {},
   "source": [
    "À titre d'exemple, essayons les méthodes `reverse`, `append` et `sort`."
   ]
  },
  {
   "cell_type": "code",
   "execution_count": null,
   "metadata": {},
   "outputs": [],
   "source": [
    "ma_liste.reverse() # Inversion de la liste\n",
    "ma_liste"
   ]
  },
  {
   "cell_type": "code",
   "execution_count": null,
   "metadata": {},
   "outputs": [],
   "source": [
    "ma_liste.append(5) # Ajout d'un élément à la fin de la liste\n",
    "ma_liste"
   ]
  },
  {
   "cell_type": "code",
   "execution_count": null,
   "metadata": {},
   "outputs": [],
   "source": [
    "ma_liste.sort() # Tri de la liste\n",
    "ma_liste"
   ]
  },
  {
   "cell_type": "code",
   "execution_count": null,
   "metadata": {},
   "outputs": [],
   "source": [
    "ma_phrase.sort() # Fontionne aussi avec une liste de chaînes de caractères\n",
    "ma_phrase"
   ]
  },
  {
   "cell_type": "markdown",
   "metadata": {},
   "source": [
    "Pour avoir accès à la documentation d'une méthode, écrire un `?` *avant* ou *après* celle-ci et exécutez la cellule avec *MAJUSCULE+ENTRÉE*:"
   ]
  },
  {
   "cell_type": "code",
   "execution_count": null,
   "metadata": {},
   "outputs": [],
   "source": [
    "ma_phrase.append?"
   ]
  },
  {
   "cell_type": "code",
   "execution_count": null,
   "metadata": {},
   "outputs": [],
   "source": [
    "ma_liste.sort?"
   ]
  },
  {
   "cell_type": "code",
   "execution_count": null,
   "metadata": {},
   "outputs": [],
   "source": [
    "?ma_phrase.sort"
   ]
  },
  {
   "cell_type": "markdown",
   "metadata": {},
   "source": [
    "Les expressions `key=None` et `reverse=False` correspondent aux variables d'entrées de la fonction `sort` et leur valeur par défaut. Le mot-clé `None` (rien) est une constante spéciale du langage Pyhton. Ainsi, on peut écrire:"
   ]
  },
  {
   "cell_type": "code",
   "execution_count": null,
   "metadata": {},
   "outputs": [],
   "source": [
    "ma_phrase.sort(reverse=True) # Tri en ordre décroissant\n",
    "ma_phrase"
   ]
  },
  {
   "cell_type": "code",
   "execution_count": null,
   "metadata": {},
   "outputs": [],
   "source": [
    "ma_phrase.sort(key=len) # Tri selon la longueur des mots. La valeur de retour de la fonction «len» est utilisée\n",
    "                        # pour comparer les éléments de la liste entre-eux.\n",
    "ma_phrase"
   ]
  },
  {
   "cell_type": "code",
   "execution_count": null,
   "metadata": {},
   "outputs": [],
   "source": [
    "ma_phrase.sort(key=len, reverse=True)\n",
    "ma_phrase\n"
   ]
  },
  {
   "cell_type": "markdown",
   "metadata": {},
   "source": [
    "##### Copie d'une liste"
   ]
  },
  {
   "cell_type": "markdown",
   "metadata": {},
   "source": [
    "**Spoiler:** Si `liste_a` est une variable de type `list`, l'expression `liste_b = liste_a` fera en sorte que `liste_b` référera à la même liste que  `liste_a`. \n",
    "\n",
    "Il faut utiliser la méthode `copy` pour éffectuer une copie de la liste."
   ]
  },
  {
   "cell_type": "code",
   "execution_count": null,
   "metadata": {},
   "outputs": [],
   "source": [
    "ma_liste = [2, 4, 6, 8]\n",
    "ma_liste.copy?"
   ]
  },
  {
   "cell_type": "code",
   "execution_count": null,
   "metadata": {
    "scrolled": true
   },
   "outputs": [],
   "source": [
    "# Référence vers ma_liste (ATTENTION: Ce n'est pas une copie des valeurs de la liste!)\n",
    "une_liste = ma_liste \n",
    "print('(A) une_liste:', une_liste, ';  ma_liste:', ma_liste, ';  une_liste == ma_liste :', une_liste == ma_liste)\n",
    "\n",
    "ma_liste[0] = 0\n",
    "print('(B) une_liste:', une_liste, ';  ma_liste:', ma_liste, ';  une_liste == ma_liste :', une_liste == ma_liste)"
   ]
  },
  {
   "cell_type": "code",
   "execution_count": null,
   "metadata": {},
   "outputs": [],
   "source": [
    "# Copie du contenu de ma_liste\n",
    "une_copie = ma_liste.copy() \n",
    "print('(A) une_copie:', une_copie, ';  ma_liste:', ma_liste, ';  une_copie == ma_liste :', une_copie == ma_liste)\n",
    "\n",
    "une_copie[0] = 3\n",
    "print('(B) une_copie:', une_copie, ';  ma_liste:', ma_liste, ';  une_copie == ma_liste :', une_copie == ma_liste)"
   ]
  },
  {
   "cell_type": "code",
   "execution_count": null,
   "metadata": {},
   "outputs": [],
   "source": [
    "# L'opérateur «is» permet de savoir si deux variables réfèrent vers le même objet\n",
    "print('une_liste is ma_liste :', une_liste is ma_liste)\n",
    "print('une_copie is ma_liste :', une_copie is ma_liste)"
   ]
  },
  {
   "cell_type": "code",
   "execution_count": null,
   "metadata": {},
   "outputs": [],
   "source": [
    "ma_liste\n"
   ]
  },
  {
   "cell_type": "code",
   "execution_count": null,
   "metadata": {},
   "outputs": [],
   "source": [
    "ma_liste.append(7)\n",
    "ma_liste"
   ]
  },
  {
   "cell_type": "code",
   "execution_count": null,
   "metadata": {},
   "outputs": [],
   "source": [
    "ma_liste.remove(7)\n",
    "ma_liste"
   ]
  },
  {
   "cell_type": "code",
   "execution_count": null,
   "metadata": {},
   "outputs": [],
   "source": [
    "ma_liste.remove?"
   ]
  },
  {
   "cell_type": "code",
   "execution_count": null,
   "metadata": {},
   "outputs": [],
   "source": [
    "ma_liste.clear?"
   ]
  },
  {
   "cell_type": "code",
   "execution_count": null,
   "metadata": {},
   "outputs": [],
   "source": [
    "ma_liste.clear()\n",
    "ma_liste"
   ]
  },
  {
   "cell_type": "code",
   "execution_count": null,
   "metadata": {},
   "outputs": [],
   "source": [
    "maliste = [4, 6, 8, 7]\n",
    "maliste.pop?\n",
    "maliste.pop()"
   ]
  },
  {
   "cell_type": "code",
   "execution_count": null,
   "metadata": {},
   "outputs": [],
   "source": [
    "maliste"
   ]
  },
  {
   "cell_type": "code",
   "execution_count": null,
   "metadata": {},
   "outputs": [],
   "source": []
  }
 ],
 "metadata": {
  "kernelspec": {
   "display_name": "Python 3",
   "language": "python",
   "name": "python3"
  },
  "language_info": {
   "codemirror_mode": {
    "name": "ipython",
    "version": 3
   },
   "file_extension": ".py",
   "mimetype": "text/x-python",
   "name": "python",
   "nbconvert_exporter": "python",
   "pygments_lexer": "ipython3",
   "version": "3.7.1"
  }
 },
 "nbformat": 4,
 "nbformat_minor": 2
}
