{
 "cells": [
  {
   "cell_type": "markdown",
   "metadata": {},
   "source": [
    "# Introduction à Python  -- TP6:  Exercices\n",
    "\n",
    "Prof. Abdelkrim EL MOUATASIM  \n",
    "\n",
    "a.elmouatasim@uiz.ac.ma\n"
   ]
  },
  {
   "cell_type": "markdown",
   "metadata": {},
   "source": [
    "### Exercice 1\n",
    "\n",
    "On utilise une liste pour représenter un vecteur $\\vbf \\in \\mathbb{R}^5$.\n",
    "Calculer la norme Euclidienne du vecteur $\\vbf$ :\n",
    "$$\\|\\vbf\\| = \\sqrt{\\sum_{i=1}^5 v_i^2}$$"
   ]
  },
  {
   "cell_type": "code",
   "execution_count": null,
   "metadata": {},
   "outputs": [],
   "source": []
  },
  {
   "cell_type": "code",
   "execution_count": null,
   "metadata": {},
   "outputs": [],
   "source": [
    "vecteur_v = [2, 5, 3, 5, 1] \n",
    "\n",
    "# Compléter ici...\n"
   ]
  }
 ],
 "metadata": {
  "kernelspec": {
   "display_name": "Python 3",
   "language": "python",
   "name": "python3"
  },
  "language_info": {
   "codemirror_mode": {
    "name": "ipython",
    "version": 3
   },
   "file_extension": ".py",
   "mimetype": "text/x-python",
   "name": "python",
   "nbconvert_exporter": "python",
   "pygments_lexer": "ipython3",
   "version": "3.7.1"
  }
 },
 "nbformat": 4,
 "nbformat_minor": 2
}
